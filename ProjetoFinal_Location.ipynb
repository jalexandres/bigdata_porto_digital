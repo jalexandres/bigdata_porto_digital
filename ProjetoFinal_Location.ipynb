{
 "cells": [
  {
   "cell_type": "code",
   "execution_count": 10,
   "metadata": {},
   "outputs": [
    {
     "name": "stdout",
     "output_type": "stream",
     "text": [
      "+----------+--------------------+---------+-----------+\n",
      "| timestamp|             user_id| latitude|  longitude|\n",
      "+----------+--------------------+---------+-----------+\n",
      "|2017-02-23|ceb41a9b-a2ae-4fa...|  33.5851| -112.38525|\n",
      "|2017-07-07|368d2b49-51e3-45e...| 41.89339|  -88.03215|\n",
      "|2017-11-22|d9ca58e8-a5f2-4e5...|  33.6151|-112.375244|\n",
      "|2017-11-17|c6b3afe0-2b6c-4bb...| 32.81424| -117.39917|\n",
      "|2017-03-22|3248fb1c-4218-433...|29.451138|   -98.7646|\n",
      "+----------+--------------------+---------+-----------+\n",
      "only showing top 5 rows\n",
      "\n"
     ]
    },
    {
     "data": {
      "text/plain": [
       "1460950"
      ]
     },
     "execution_count": 10,
     "metadata": {},
     "output_type": "execute_result"
    }
   ],
   "source": [
    "import findspark\n",
    "findspark.init()\n",
    "import pyspark\n",
    "from pyspark.sql import SparkSession\n",
    "spark = SparkSession.builder.getOrCreate()\n",
    "#\n",
    "#Carregar o csv e converter para parquet\n",
    "meuSchema = 'timestamp DATE, user_id STRING, latitude FLOAT, longitude FLOAT'\n",
    "#df = spark.read.csv(\"file:///Users/alexa/Desktop/spark/location_record.csv\",header='True', schema=meuSchema)\n",
    "df = spark.read.csv(\"data/location_record.csv\",header='True', schema=meuSchema)\n",
    "df.write.mode('overwrite').parquet(\"csv_to_parquet\")\n",
    "df = spark.read.parquet(\"csv_to_parquet\")\n",
    "df.show(5)\n",
    "df.count()"
   ]
  },
  {
   "cell_type": "code",
   "execution_count": 2,
   "metadata": {},
   "outputs": [
    {
     "name": "stdout",
     "output_type": "stream",
     "text": [
      "+--------------------+-----+\n",
      "|             user_id|count|\n",
      "+--------------------+-----+\n",
      "|6bee6eeb-3de9-428...|18058|\n",
      "|2930195c-571f-423...|11720|\n",
      "|ceb41a9b-a2ae-4fa...|17449|\n",
      "|956f008e-afc4-4c2...|14827|\n",
      "|ca2004f5-4cb1-47c...|17453|\n",
      "|9766d90d-02a9-437...|13488|\n",
      "|ea01cebf-6020-4f8...|10746|\n",
      "|f38ac15b-5b53-40b...|19670|\n",
      "|20d0e40a-fac7-40d...|11064|\n",
      "|38d39b3d-333a-4cf...|10461|\n",
      "|bf6239ad-5d97-45e...|17537|\n",
      "|29285d0b-d2ac-45e...|17643|\n",
      "|ee31a564-abce-4b9...|11297|\n",
      "|f6b1adf3-7fe1-4ee...|12719|\n",
      "|7e8bf208-d924-4a1...|11811|\n",
      "|887d38e3-1425-4c8...|11783|\n",
      "|7196e0b5-74e4-49d...|11306|\n",
      "|02fa7c31-61f3-440...|15518|\n",
      "|9377f083-89e7-421...|11799|\n",
      "|f4ad21f9-1aea-41c...|18564|\n",
      "+--------------------+-----+\n",
      "only showing top 20 rows\n",
      "\n"
     ]
    }
   ],
   "source": [
    "#Quantidade de registros de localização por user_id\n",
    "#\n",
    "#df_agregado = df.groupBy('user_id').agg({'timestamp': 'count'}).show()\n",
    "df_agregado = df.groupBy('user_id').count().show()"
   ]
  },
  {
   "cell_type": "code",
   "execution_count": 3,
   "metadata": {},
   "outputs": [
    {
     "name": "stdout",
     "output_type": "stream",
     "text": [
      "+--------------------+----------+----------------+\n",
      "|             user_id| timestamp|count(timestamp)|\n",
      "+--------------------+----------+----------------+\n",
      "|5e96b5ba-57f6-4c9...|2017-05-22|              35|\n",
      "|2f6c0454-0419-40b...|2017-11-16|              41|\n",
      "|0c6c3ab9-c06c-41e...|2017-07-18|              43|\n",
      "|6fca3db0-8e41-429...|2017-02-14|              50|\n",
      "|debc30cc-be75-4db...|2017-01-08|              42|\n",
      "|e4abaf63-5618-489...|2017-01-22|              41|\n",
      "|f4ad21f9-1aea-41c...|2017-10-12|              64|\n",
      "|7a9784be-2b75-42f...|2017-08-10|              41|\n",
      "|0c6c3ab9-c06c-41e...|2017-06-26|              45|\n",
      "|04d50310-688f-4b0...|2017-05-29|              39|\n",
      "|b98df091-0375-495...|2017-11-06|              43|\n",
      "|ca2004f5-4cb1-47c...|2017-03-18|              58|\n",
      "|91404c28-4877-4e4...|2017-08-12|              53|\n",
      "|23db51bb-2fa1-4e5...|2017-04-02|              48|\n",
      "|8d8d47d3-d3ea-4f6...|2017-12-09|              24|\n",
      "|c8270c5e-8b30-4a0...|2017-09-29|              33|\n",
      "|f4ad21f9-1aea-41c...|2017-05-15|              49|\n",
      "|95c7dd33-1874-48a...|2017-08-12|              52|\n",
      "|ea003129-21b1-407...|2017-11-21|              36|\n",
      "|66f3d603-d326-424...|2017-01-05|              47|\n",
      "+--------------------+----------+----------------+\n",
      "only showing top 20 rows\n",
      "\n"
     ]
    }
   ],
   "source": [
    "#Quantidade de registros do user_id por data\n",
    "#\n",
    "df.groupBy('user_id','timestamp').agg({'timestamp': 'count'}).show()"
   ]
  },
  {
   "cell_type": "code",
   "execution_count": 7,
   "metadata": {},
   "outputs": [
    {
     "name": "stdout",
     "output_type": "stream",
     "text": [
      "root\n",
      " |-- latitude: float (nullable = true)\n",
      " |-- longitude: float (nullable = true)\n",
      "\n",
      "+--------+-----------+\n",
      "|latitude|  longitude|\n",
      "+--------+-----------+\n",
      "| 33.5851| -112.38525|\n",
      "| 33.6151|-112.375244|\n",
      "| 33.5751|-112.375244|\n",
      "| 33.6051| -112.40524|\n",
      "| 33.6151| -112.35525|\n",
      "+--------+-----------+\n",
      "only showing top 5 rows\n",
      "\n"
     ]
    },
    {
     "data": {
      "text/plain": [
       "17449"
      ]
     },
     "execution_count": 7,
     "metadata": {},
     "output_type": "execute_result"
    }
   ],
   "source": [
    "#Filtrar dados de apenas 1 user_id\n",
    "#\n",
    "#df2 = df[df['user_id'] == 'ca2004f5-4cb1-47c6-b1cf-43381cd782db']\n",
    "df2 = df[df['user_id'] == 'ceb41a9b-a2ae-4fa2-9476-f308c775e8f6']\n",
    "#df2 = df[df['user_id'] == '368d2b49-51e3-45e2-ba4f-13285435b3f8']\n",
    "#\n",
    "#Modificar o dataframe para conter apenas os dados de localização\n",
    "#\n",
    "df2 = df2[['latitude','longitude']]\n",
    "df2.printSchema()\n",
    "df2.show(5)\n",
    "df2.count()"
   ]
  },
  {
   "cell_type": "code",
   "execution_count": 8,
   "metadata": {},
   "outputs": [],
   "source": [
    "#import numpy as np\n",
    "#import pandas as pd\n",
    "# ativa transfencia de dados colunados via Arrow\n",
    "#spark.conf.set(\"spark.sql.execution.arrow.enabled\", \"true\")\n",
    "dfpandas = df2.select(\"*\").toPandas()"
   ]
  },
  {
   "cell_type": "code",
   "execution_count": 9,
   "metadata": {},
   "outputs": [
    {
     "data": {
      "application/vnd.jupyter.widget-view+json": {
       "model_id": "3c5e0ee5e9b64228b3c1b836ef05d532",
       "version_major": 2,
       "version_minor": 0
      },
      "text/plain": [
       "Figure(layout=FigureLayout(border='1px solid black', height='500px', padding='1px', width='100%'))"
      ]
     },
     "metadata": {},
     "output_type": "display_data"
    }
   ],
   "source": [
    "import gmaps\n",
    "#import gmaps.datasets\n",
    "gmaps.configure(api_key=\"AIza...\")\n",
    "#mapa = gmaps.figure(map_type='SATELLITE')\n",
    "figure_layout = { 'width': '100%', 'height': '500px', 'border': '1px solid black', 'padding': '1px'} \n",
    "mapa = gmaps.figure(map_type='HYBRID',layout=figure_layout)  \n",
    "mapa.add_layer(gmaps.heatmap_layer(dfpandas))\n",
    "#mapa.add_Layer(gmaps.directiopns.Directions(dfpandas, SF, mode='car'))\n",
    "mapa"
   ]
  },
  {
   "cell_type": "code",
   "execution_count": null,
   "metadata": {},
   "outputs": [],
   "source": []
  }
 ],
 "metadata": {
  "kernelspec": {
   "display_name": "Python 3",
   "language": "python",
   "name": "python3"
  },
  "language_info": {
   "codemirror_mode": {
    "name": "ipython",
    "version": 3
   },
   "file_extension": ".py",
   "mimetype": "text/x-python",
   "name": "python",
   "nbconvert_exporter": "python",
   "pygments_lexer": "ipython3",
   "version": "3.6.5"
  }
 },
 "nbformat": 4,
 "nbformat_minor": 2
}
