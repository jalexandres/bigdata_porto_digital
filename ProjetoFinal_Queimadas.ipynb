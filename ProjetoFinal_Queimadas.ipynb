{
 "cells": [
  {
   "cell_type": "code",
   "execution_count": 3,
   "metadata": {},
   "outputs": [
    {
     "name": "stdout",
     "output_type": "stream",
     "text": [
      "+--------------------+---------+--------+-------------------+--------+--------------------+------------------+---------+--------------------+\n",
      "|                 FID|longitude|latitude|      data_hora_gmt|satelite|           municipio|            estado|     pais|                geom|\n",
      "+--------------------+---------+--------+-------------------+--------+--------------------+------------------+---------+--------------------+\n",
      "|focos_ams_ontem_h...|   -58.83| -26.577|2019-07-08 17:40:00|AQUA_M-T|Libertador Genera...|             Chaco|Argentina|POINT (-26.577 -5...|\n",
      "|focos_ams_ontem_h...|   -61.39| -23.244|2019-07-08 17:40:00|AQUA_M-T|Doctor Pedro P. Peña|          Boquerón| Paraguay|POINT (-23.244 -6...|\n",
      "|focos_ams_ontem_h...|  -57.587| -22.065|2019-07-08 17:40:00|AQUA_M-T|      PORTO MURTINHO|MATO GROSSO DO SUL|   Brasil|POINT (-22.065 -5...|\n",
      "|focos_ams_ontem_h...|  -56.548| -24.025|2019-07-08 17:40:00|AQUA_M-T|                Lima|         San Pedro| Paraguay|POINT (-24.025 -5...|\n",
      "|focos_ams_ontem_h...|  -60.013| -22.102|2019-07-08 17:40:00|AQUA_M-T|Mariscal José Fél...|          Boquerón| Paraguay|POINT (-22.102 -6...|\n",
      "+--------------------+---------+--------+-------------------+--------+--------------------+------------------+---------+--------------------+\n",
      "only showing top 5 rows\n",
      "\n",
      "root\n",
      " |-- FID: string (nullable = true)\n",
      " |-- longitude: double (nullable = true)\n",
      " |-- latitude: double (nullable = true)\n",
      " |-- data_hora_gmt: timestamp (nullable = true)\n",
      " |-- satelite: string (nullable = true)\n",
      " |-- municipio: string (nullable = true)\n",
      " |-- estado: string (nullable = true)\n",
      " |-- pais: string (nullable = true)\n",
      " |-- geom: string (nullable = true)\n",
      "\n"
     ]
    }
   ],
   "source": [
    "import findspark\n",
    "findspark.init()\n",
    "import pyspark\n",
    "#import pandas as pd\n",
    "#import urllib\n",
    "from pyspark.sql import SparkSession\n",
    "spark = SparkSession.builder.getOrCreate()\n",
    "#caminho_arquivo = \"file:///Users/alexa/Desktop/spark/focos48h_AMS.csv\"\n",
    "caminho_arquivo = \"focos48h_AMS.csv\"\n",
    "#CSV_URL = 'http://www.inpe.br/queimadas/dados-abertos/download/?id=focos_brasil&time=Ontem'\n",
    "#CSV_URL = 'http://www.inpe.br/queimadas/dados-abertos/download/?utm_campaign=dados-abertos&utm_medium=landing-page&time=48h&utm_content=focos_ams_48h&id=focos_ams&utm_source=landing-page'\n",
    "df = spark.read.csv(caminho_arquivo,header=True, inferSchema=True)\n",
    "#df = spark.read.csv(CSV_URL,header=True, inferSchema=True)\n",
    "#urllib.request.urlretrieve(CSV_URL, 'focos48h_AMS.csv')\n",
    "#df = pd.read_csv('dfocos48h_AMS.csv')\n",
    "df.show(5)\n",
    "df.count()\n",
    "df.printSchema()"
   ]
  },
  {
   "cell_type": "code",
   "execution_count": 4,
   "metadata": {},
   "outputs": [
    {
     "name": "stdout",
     "output_type": "stream",
     "text": [
      "+---------+--------------------+\n",
      "|     pais|count(data_hora_gmt)|\n",
      "+---------+--------------------+\n",
      "| Paraguay|                 257|\n",
      "|   Guyana|                   1|\n",
      "|Argentina|                 250|\n",
      "|     Peru|                   8|\n",
      "|  Bolivia|                 161|\n",
      "|Venezuela|                   4|\n",
      "|  Uruguay|                  11|\n",
      "|   Brasil|                 290|\n",
      "| Colombia|                   3|\n",
      "+---------+--------------------+\n",
      "\n"
     ]
    }
   ],
   "source": [
    "df_agregado = df.groupBy('pais').agg({'data_hora_gmt': 'count'}).show()"
   ]
  },
  {
   "cell_type": "code",
   "execution_count": 5,
   "metadata": {},
   "outputs": [
    {
     "name": "stdout",
     "output_type": "stream",
     "text": [
      "+------------------+-----+\n",
      "|            estado|count|\n",
      "+------------------+-----+\n",
      "| RIO GRANDE DO SUL|   37|\n",
      "|       MATO GROSSO|   91|\n",
      "|             GOIÁS|    1|\n",
      "|          AMAZONAS|   12|\n",
      "|          RONDÔNIA|   26|\n",
      "|          MARANHÃO|   15|\n",
      "|    SANTA CATARINA|    6|\n",
      "|      MINAS GERAIS|   25|\n",
      "|            PARANÁ|   13|\n",
      "|              ACRE|    5|\n",
      "|MATO GROSSO DO SUL|   32|\n",
      "|             BAHIA|    2|\n",
      "|              PARÁ|   11|\n",
      "|         TOCANTINS|   13|\n",
      "|             CEARÁ|    1|\n",
      "+------------------+-----+\n",
      "\n"
     ]
    }
   ],
   "source": [
    "df2 = df[df['pais'] == 'Brasil']\n",
    "#df_agregado = df2.groupBy('estado').agg({'data_hora_gmt': 'count'}).show()\n",
    "df_agregado = df2.groupBy('estado').count()\n",
    "df_agregado.show()"
   ]
  },
  {
   "cell_type": "code",
   "execution_count": 6,
   "metadata": {},
   "outputs": [
    {
     "data": {
      "text/plain": [
       "(-1.1089966545690013,\n",
       " 1.1019534955603993,\n",
       " -1.1021684185671607,\n",
       " 1.1054351728008127)"
      ]
     },
     "execution_count": 6,
     "metadata": {},
     "output_type": "execute_result"
    },
    {
     "data": {
      "image/png": "[encoded data removed]",
      "text/plain": [
       "<Figure size 432x288 with 1 Axes>"
      ]
     },
     "metadata": {},
     "output_type": "display_data"
    }
   ],
   "source": [
    "%matplotlib inline\n",
    "import matplotlib.pyplot as plt\n",
    "\n",
    "dfpandas = df_agregado.select(\"*\").toPandas()\n",
    "labels = dfpandas['estado']\n",
    "sizes = dfpandas['count']\n",
    "colors = ['turquoise', 'seagreen', 'mediumslateblue', 'palegreen', 'coral']\n",
    "plt.pie(sizes, labels=labels, autopct='%1.1f%%', colors=colors, shadow=True, startangle=140)\n",
    "plt.axis('equal')\n",
    "#plt.legend()"
   ]
  },
  {
   "cell_type": "code",
   "execution_count": 7,
   "metadata": {
    "scrolled": true
   },
   "outputs": [
    {
     "name": "stdout",
     "output_type": "stream",
     "text": [
      "root\n",
      " |-- latitude: double (nullable = true)\n",
      " |-- longitude: double (nullable = true)\n",
      "\n",
      "+--------+---------+\n",
      "|latitude|longitude|\n",
      "+--------+---------+\n",
      "| -26.577|   -58.83|\n",
      "| -23.244|   -61.39|\n",
      "| -22.065|  -57.587|\n",
      "| -24.025|  -56.548|\n",
      "| -22.102|  -60.013|\n",
      "+--------+---------+\n",
      "only showing top 5 rows\n",
      "\n"
     ]
    },
    {
     "data": {
      "text/plain": [
       "985"
      ]
     },
     "execution_count": 7,
     "metadata": {},
     "output_type": "execute_result"
    }
   ],
   "source": [
    "df = df[['latitude','longitude']]\n",
    "df.printSchema()\n",
    "df.show(5)\n",
    "df.count()"
   ]
  },
  {
   "cell_type": "code",
   "execution_count": 8,
   "metadata": {},
   "outputs": [],
   "source": [
    "#import numpy as np\n",
    "#import pandas as pd\n",
    "# ativa transfencia de dados colunados via Arrow\n",
    "#spark.conf.set(\"spark.sql.execution.arrow.enabled\", \"true\")\n",
    "dfpandas = df.select(\"*\").toPandas()"
   ]
  },
  {
   "cell_type": "code",
   "execution_count": 9,
   "metadata": {},
   "outputs": [
    {
     "data": {
      "application/vnd.jupyter.widget-view+json": {
       "model_id": "c26f2a1a846f4013bba40a5687eb3b47",
       "version_major": 2,
       "version_minor": 0
      },
      "text/plain": [
       "Figure(layout=FigureLayout(border='1px solid black', height='500px', padding='1px', width='100%'))"
      ]
     },
     "metadata": {},
     "output_type": "display_data"
    }
   ],
   "source": [
    "import gmaps\n",
    "#import gmaps.datasets\n",
    "gmaps.configure(api_key=\"AIza...\")\n",
    "figure_layout = { 'width': '100%', 'height': '500px', 'border': '1px solid black', 'padding': '1px'} \n",
    "mapa = gmaps.figure(map_type='HYBRID',layout=figure_layout)  \n",
    "mapa.add_layer(gmaps.heatmap_layer(dfpandas))\n",
    "mapa"
   ]
  },
  {
   "cell_type": "code",
   "execution_count": null,
   "metadata": {},
   "outputs": [],
   "source": []
  },
  {
   "cell_type": "code",
   "execution_count": null,
   "metadata": {},
   "outputs": [],
   "source": []
  }
 ],
 "metadata": {
  "kernelspec": {
   "display_name": "Python 3",
   "language": "python",
   "name": "python3"
  },
  "language_info": {
   "codemirror_mode": {
    "name": "ipython",
    "version": 3
   },
   "file_extension": ".py",
   "mimetype": "text/x-python",
   "name": "python",
   "nbconvert_exporter": "python",
   "pygments_lexer": "ipython3",
   "version": "3.6.5"
  }
 },
 "nbformat": 4,
 "nbformat_minor": 2
}
